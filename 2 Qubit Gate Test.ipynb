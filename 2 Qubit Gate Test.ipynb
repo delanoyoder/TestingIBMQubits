{
 "cells": [
  {
   "cell_type": "code",
   "execution_count": 1,
   "metadata": {},
   "outputs": [],
   "source": [
    "%matplotlib inline\n",
    "import time\n",
    "import pickle\n",
    "import numpy as np\n",
    "from qiskit import *\n",
    "from qiskit import IBMQ\n",
    "import matplotlib.pyplot as plt\n",
    "from qiskit.tools.monitor import job_monitor\n",
    "from qiskit.tools.visualization import plot_histogram\n",
    "\n",
    "date = '04-23-2020-1800'\n",
    "multiplier = 16\n",
    "machine = 'ibmq_london'"
   ]
  },
  {
   "cell_type": "code",
   "execution_count": 2,
   "metadata": {},
   "outputs": [
    {
     "name": "stderr",
     "output_type": "stream",
     "text": [
      "configrc.store_credentials:WARNING:2020-07-17 13:47:22,897: Credentials already present. Set overwrite=True to overwrite.\n"
     ]
    }
   ],
   "source": [
    "#Get provider\n",
    "IBMQ.save_account('f2fcc2d8cff908878030fcb87e40c02f6dfe5cf467c5b948c1ae0b091b0f66b20bb4fc7078fedf45ed6379e336baea7572bee513469a4d4abbfc649ec82f1c16')\n",
    "IBMQ.load_account()\n",
    "provider = IBMQ.get_provider('ibm-q')\n",
    "backend = provider.get_backend(machine)"
   ]
  },
  {
   "cell_type": "code",
   "execution_count": 3,
   "metadata": {},
   "outputs": [],
   "source": [
    "#Get identity gate time\n",
    "backend_properties = backend.properties()\n",
    "dt = backend_properties._gates['id'][0,]['gate_length'][0] * 1e6"
   ]
  },
  {
   "cell_type": "code",
   "execution_count": 4,
   "metadata": {},
   "outputs": [],
   "source": [
    "def apply_gate(wait1, wait2, gate):\n",
    "    \n",
    "# initialize quantum circuit\n",
    "    circuit = QuantumCircuit(1,1)\n",
    "    \n",
    "# define wait gates\n",
    "    w_circuit = QuantumCircuit(1, name='Wait Gate: ' + str(round(wait1 * dt, 3)) + 'μs')\n",
    "\n",
    "    for t in range(wait1):\n",
    "        w_circuit.i(0)\n",
    "\n",
    "    w = w_circuit.to_instruction()\n",
    "\n",
    "# wait\n",
    "    circuit.append(w, [0])\n",
    "    \n",
    "# qubit 1 rotation of pi along x\n",
    "    if (gate == True):\n",
    "        circuit.h(0)\n",
    "    \n",
    "# define wait gates\n",
    "    w_circuit = QuantumCircuit(1, name='Wait Gate: ' + str(round(wait2 * dt, 3)) + 'μs')\n",
    "\n",
    "    for t in range(wait2):\n",
    "        w_circuit.i(0)\n",
    "\n",
    "    w = w_circuit.to_instruction()\n",
    "\n",
    "# wait\n",
    "    circuit.append(w, [0])\n",
    "    \n",
    "# measure circuit\n",
    "    circuit.measure(0, 0)\n",
    "    \n",
    "    return circuit"
   ]
  },
  {
   "cell_type": "code",
   "execution_count": null,
   "metadata": {},
   "outputs": [],
   "source": [
    "circuits = []\n",
    "for c in range(64):\n",
    "    if (c <= 15):\n",
    "        circuits.append(apply_gate(c*multiplier, 0, False))\n",
    "    else:\n",
    "        circuits.append(apply_gate(32*multiplier, (c-31)*multiplier, True))\n",
    "\n",
    "# print circuit\n",
    "circuits[63].draw(output='mpl')"
   ]
  }
 ],
 "metadata": {
  "kernelspec": {
   "display_name": "Python 3",
   "language": "python",
   "name": "python3"
  },
  "language_info": {
   "codemirror_mode": {
    "name": "ipython",
    "version": 3
   },
   "file_extension": ".py",
   "mimetype": "text/x-python",
   "name": "python",
   "nbconvert_exporter": "python",
   "pygments_lexer": "ipython3",
   "version": "3.7.6"
  }
 },
 "nbformat": 4,
 "nbformat_minor": 4
}
